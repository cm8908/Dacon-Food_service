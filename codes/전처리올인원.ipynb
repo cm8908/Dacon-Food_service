{
 "cells": [
  {
   "cell_type": "code",
   "execution_count": 240,
   "id": "serial-corruption",
   "metadata": {},
   "outputs": [],
   "source": [
    "#pip install"
   ]
  },
  {
   "cell_type": "code",
   "execution_count": 1,
   "id": "antique-surveillance",
   "metadata": {},
   "outputs": [],
   "source": [
    "import pandas as pd\n",
    "import numpy as np\n",
    "import matplotlib.pyplot as plt\n",
    "import seaborn as sns\n",
    "from tqdm import tqdm\n",
    "from sklearn.preprocessing import LabelEncoder\n",
    "from sklearn.model_selection import train_test_split\n",
    "from sklearn.metrics import mean_absolute_error, mean_squared_error\n",
    "\n",
    "import joblib\n",
    "import warnings \n",
    "warnings.filterwarnings(action='ignore')\n",
    "\n",
    "from matplotlib import font_manager, rc\n",
    "font_path = \"C:/Windows/Fonts/SeoulHangangB.ttf\"\n",
    "font = font_manager.FontProperties(fname=font_path).get_name()\n",
    "rc('font', family=font)"
   ]
  },
  {
   "cell_type": "code",
   "execution_count": 242,
   "id": "standard-wrong",
   "metadata": {},
   "outputs": [],
   "source": [
    "train = pd.read_csv('./train.csv', encoding='utf-8')\n",
    "test = pd.read_csv('./test.csv', encoding='utf-8')"
   ]
  },
  {
   "cell_type": "markdown",
   "id": "abandoned-relations",
   "metadata": {},
   "source": [
    "## 날짜데이터"
   ]
  },
  {
   "cell_type": "code",
   "execution_count": 243,
   "id": "personal-offering",
   "metadata": {},
   "outputs": [],
   "source": [
    "def process_date(df):\n",
    "    df['일자'] = pd.to_datetime(df['일자'], format=\"%Y-%m-%d\")\n",
    "    df['년'] = df['일자'].dt.year\n",
    "    df['월'] = df['일자'].dt.month\n",
    "    df['일'] = df['일자'].dt.day\n",
    "    #df = df.drop('일자', axis=1)\n",
    "    return df"
   ]
  },
  {
   "cell_type": "code",
   "execution_count": 244,
   "id": "copyrighted-perth",
   "metadata": {},
   "outputs": [],
   "source": [
    "# General preprocessing\n",
    "train = process_date(train)\n",
    "day_encoder = LabelEncoder()\n",
    "train['요일'] = day_encoder.fit_transform(train['요일'])\n",
    "\n",
    "test = process_date(test)\n",
    "day_encoder = LabelEncoder()\n",
    "test['요일'] = day_encoder.fit_transform(test['요일'])"
   ]
  },
  {
   "cell_type": "code",
   "execution_count": 245,
   "id": "herbal-telescope",
   "metadata": {},
   "outputs": [],
   "source": [
    "train.to_csv('dataset/train_date.csv', index=False)\n",
    "test.to_csv('dataset/test_date.csv', index=False)"
   ]
  },
  {
   "cell_type": "markdown",
   "id": "purple-radius",
   "metadata": {},
   "source": [
    "## 공휴일"
   ]
  },
  {
   "cell_type": "code",
   "execution_count": 246,
   "id": "applicable-transsexual",
   "metadata": {},
   "outputs": [
    {
     "name": "stdout",
     "output_type": "stream",
     "text": [
      "Dataset loaded\n"
     ]
    }
   ],
   "source": [
    "load_date = True\n",
    "try:\n",
    "    if load_date:\n",
    "        train = pd.read_csv('dataset/train_date.csv')\n",
    "        test = pd.read_csv('dataset/test_date.csv')\n",
    "        print('Dataset loaded')\n",
    "    else:\n",
    "        print('Not loaded')\n",
    "except:\n",
    "    print('Dataset not found')"
   ]
  },
  {
   "cell_type": "code",
   "execution_count": 247,
   "id": "viral-philip",
   "metadata": {},
   "outputs": [],
   "source": [
    "#공휴일 지정 노가다\n",
    "train['공휴일전후'] = 0\n",
    "test['공휴일전후'] = 0\n",
    "\n",
    "train['공휴일전후'][17] = 1\n",
    "train['공휴일전후'][3] = 1\n",
    "train['공휴일전후'][62] = 1\n",
    "# train['공휴일전후'][67] = 1\n",
    "# train['공휴일전후'][82] = 1\n",
    "train['공휴일전후'][131] = 1\n",
    "# train['공휴일전후'][130] = 1\n",
    "train['공휴일전후'][152] = 1\n",
    "train['공휴일전후'][226] = 1\n",
    "train['공휴일전후'][221] = 1\n",
    "train['공휴일전후'][224] = 1\n",
    "# train['공휴일전후'][244] = 1\n",
    "train['공휴일전후'][245] = 1\n",
    "# train['공휴일전후'][267] = 1\n",
    "train['공휴일전후'][310] = 1\n",
    "train['공휴일전후'][311] = 1\n",
    "train['공휴일전후'][309] = 1\n",
    "train['공휴일전후'][330] = 1\n",
    "train['공휴일전후'][379] = 1\n",
    "train['공휴일전후'][467] = 1\n",
    "# train['공휴일전후'][469] = 1\n",
    "train['공휴일전후'][470] = 1\n",
    "train['공휴일전후'][502] = 1\n",
    "# train['공휴일전후'][501] = 1\n",
    "# train['공휴일전후'][511] = 1\n",
    "train['공휴일전후'][565] = 1\n",
    "train['공휴일전후'][623] = 1\n",
    "train['공휴일전후'][651] = 1\n",
    "# train['공휴일전후'][650] = 1\n",
    "train['공휴일전후'][705] = 1\n",
    "# train['공휴일전후'][707] = 1\n",
    "train['공휴일전후'][709] = 1\n",
    "# train['공휴일전후'][733] = 1\n",
    "# train['공휴일전후'][748] = 1\n",
    "# train['공휴일전후'][792] = 1\n",
    "train['공휴일전후'][815] = 1\n",
    "train['공휴일전후'][864] = 1\n",
    "# train['공휴일전후'][863] = 1\n",
    "train['공휴일전후'][950] = 1\n",
    "train['공휴일전후'][951] = 1\n",
    "train['공휴일전후'][953] = 1\n",
    "train['공휴일전후'][954] = 1\n",
    "train['공휴일전후'][955] = 1\n",
    "train['공휴일전후'][971] = 1\n",
    "# train['공휴일전후'][970] = 1\n",
    "# train['공휴일전후'][1037] = 1\n",
    "train['공휴일전후'][1038] = 1\n",
    "train['공휴일전후'][1099] = 1\n",
    "train['공휴일전후'][1129] = 1\n",
    "# train['공휴일전후'][1128] = 1\n",
    "train['공휴일전후'][1187] = 1\n",
    "# train['공휴일전후'][1186] = 1\n",
    "\n",
    "test['공휴일전후'][10] =1\n",
    "test['공휴일전후'][20] = 1"
   ]
  },
  {
   "cell_type": "code",
   "execution_count": 248,
   "id": "polar-filename",
   "metadata": {},
   "outputs": [],
   "source": [
    "train.to_csv('dataset/train_holidays.csv', index=False)\n",
    "test.to_csv('dataset/test_holidays.csv', index=False)"
   ]
  },
  {
   "cell_type": "markdown",
   "id": "swiss-setting",
   "metadata": {},
   "source": [
    "## 메뉴"
   ]
  },
  {
   "cell_type": "code",
   "execution_count": 249,
   "id": "isolated-spencer",
   "metadata": {},
   "outputs": [
    {
     "name": "stdout",
     "output_type": "stream",
     "text": [
      "Dataset loaded\n"
     ]
    }
   ],
   "source": [
    "load_holidays = True\n",
    "try:\n",
    "    if load_holidays:\n",
    "        train = pd.read_csv('dataset/train_holidays.csv')\n",
    "        test = pd.read_csv('dataset/test_holidays.csv')\n",
    "        print('Dataset loaded')\n",
    "    else:\n",
    "        print('Not loaded')\n",
    "except:\n",
    "    print('Dataset not found')"
   ]
  },
  {
   "cell_type": "code",
   "execution_count": 250,
   "id": "retired-stroke",
   "metadata": {},
   "outputs": [],
   "source": [
    "menu = pd.read_csv('./menu.csv')"
   ]
  },
  {
   "cell_type": "code",
   "execution_count": 251,
   "id": "surprised-allah",
   "metadata": {},
   "outputs": [],
   "source": [
    "menu['메뉴'] = menu['Unnamed: 0.1.1']\n",
    "menu.drop(['Unnamed: 0', 'Unnamed: 0.1', 'Unnamed: 0.1.1'], axis=1, inplace=True)"
   ]
  },
  {
   "cell_type": "code",
   "execution_count": 252,
   "id": "junior-compilation",
   "metadata": {},
   "outputs": [],
   "source": [
    "def get_food_embedding(x):\n",
    "    x_ = []\n",
    "    x = x.split(' ')\n",
    "    for i in x:\n",
    "        if '(' in i and ':' in i and ')' in i:\n",
    "            continue\n",
    "        if '/' in i:\n",
    "            x_.extend(i.split('/'))\n",
    "        else:\n",
    "            x_.append(i)\n",
    "    x_ = list(set(x_))\n",
    "    x_.remove('')\n",
    "    return x_"
   ]
  },
  {
   "cell_type": "code",
   "execution_count": 253,
   "id": "challenging-cooperative",
   "metadata": {},
   "outputs": [],
   "source": [
    "train['중식메뉴_split'] = train['중식메뉴'].apply(lambda x: get_food_embedding(x))\n",
    "train['석식메뉴_split'] = train['석식메뉴'].apply(lambda x: get_food_embedding(x))\n",
    "\n",
    "test['중식메뉴_split'] = test['중식메뉴'].apply(lambda x: get_food_embedding(x))\n",
    "test['석식메뉴_split'] = test['석식메뉴'].apply(lambda x: get_food_embedding(x))"
   ]
  },
  {
   "cell_type": "code",
   "execution_count": 254,
   "id": "attractive-waste",
   "metadata": {},
   "outputs": [],
   "source": [
    "lunch_1hot = []\n",
    "for ln in train.중식메뉴_split:\n",
    "    mask = np.zeros(35)\n",
    "    for elm in ln:\n",
    "        if elm in list(menu['메뉴']):\n",
    "            mask = mask + menu[menu['메뉴'] == elm].iloc[:,:-1].to_numpy()[0]\n",
    "    if mask.sum() != 0:\n",
    "        mask = mask / mask.sum()\n",
    "    lunch_1hot.append(mask)\n",
    "\n",
    "dinner_1hot = []\n",
    "for ln in train.석식메뉴_split:\n",
    "    mask = np.zeros(35)\n",
    "    for elm in ln:\n",
    "        if elm in list(menu['메뉴']):\n",
    "            mask = mask + menu[menu['메뉴'] == elm].iloc[:,:-1].to_numpy()[0]\n",
    "    if mask.sum() != 0:\n",
    "        mask = mask / mask.sum()\n",
    "    dinner_1hot.append(mask)\n",
    "    \n",
    "lunch_1hot_t = []\n",
    "for ln in test.중식메뉴_split:\n",
    "    mask = np.zeros(35)\n",
    "    for elm in ln:\n",
    "        if elm in list(menu['메뉴']):\n",
    "            mask = mask + menu[menu['메뉴'] == elm].iloc[:,:-1].to_numpy()[0]\n",
    "    if mask.sum() != 0:\n",
    "        mask = mask / mask.sum()\n",
    "    lunch_1hot_t.append(mask)\n",
    "\n",
    "dinner_1hot_t = []\n",
    "for ln in test.석식메뉴_split:\n",
    "    mask = np.zeros(35)\n",
    "    for elm in ln:\n",
    "        if elm in list(menu['메뉴']):\n",
    "            mask = mask + menu[menu['메뉴'] == elm].iloc[:,:-1].to_numpy()[0]\n",
    "    if mask.sum() != 0:\n",
    "        mask = mask / mask.sum()\n",
    "    dinner_1hot_t.append(mask)"
   ]
  },
  {
   "cell_type": "code",
   "execution_count": 255,
   "id": "least-pasta",
   "metadata": {},
   "outputs": [
    {
     "name": "stdout",
     "output_type": "stream",
     "text": [
      "5 [0. 0. 0. 0. 0. 0. 0. 0. 0. 0. 0. 0. 0. 0. 0. 0. 0. 0. 0. 0. 0. 0. 0. 0.\n",
      " 0. 0. 0. 0. 0. 0. 0. 0. 0. 0. 0.]\n"
     ]
    },
    {
     "data": {
      "text/plain": [
       "1"
      ]
     },
     "execution_count": 255,
     "metadata": {},
     "output_type": "execute_result"
    }
   ],
   "source": [
    "# 합이 0인 개수\n",
    "count=0\n",
    "for idx, arr in enumerate(dinner_1hot_t):\n",
    "    if np.sum(arr) == 0:\n",
    "        print(idx, arr)\n",
    "        count += 1\n",
    "count"
   ]
  },
  {
   "cell_type": "code",
   "execution_count": 256,
   "id": "blank-worship",
   "metadata": {},
   "outputs": [],
   "source": [
    "tmp_ln = pd.DataFrame(lunch_1hot, columns=menu.columns[:-1])\n",
    "train_ln = pd.concat([train, tmp_ln], axis=1)\n",
    "\n",
    "tmp_dn = pd.DataFrame(dinner_1hot, columns=menu.columns[:-1])\n",
    "train_dn = pd.concat([train, tmp_dn], axis=1)\n",
    "\n",
    "tmp_ln_t = pd.DataFrame(lunch_1hot_t, columns=menu.columns[:-1])\n",
    "test_ln = pd.concat([test, tmp_ln_t], axis=1)\n",
    "\n",
    "tmp_dn_t = pd.DataFrame(dinner_1hot_t, columns=menu.columns[:-1])\n",
    "test_dn = pd.concat([test, tmp_dn_t], axis=1)"
   ]
  },
  {
   "cell_type": "code",
   "execution_count": 257,
   "id": "characteristic-columbus",
   "metadata": {},
   "outputs": [],
   "source": [
    "train_ln.to_csv('dataset/train_lunch_menu.csv', index=False)\n",
    "train_dn.to_csv('dataset/train_dinner_menu.csv', index=False)\n",
    "test_ln.to_csv('dataset/test_lunch_menu.csv', index=False)\n",
    "test_dn.to_csv('dataset/test_dinner_menu.csv', index=False)"
   ]
  },
  {
   "cell_type": "markdown",
   "id": "hearing-teaching",
   "metadata": {},
   "source": [
    "## 식사가능자"
   ]
  },
  {
   "cell_type": "code",
   "execution_count": 16,
   "id": "voluntary-hopkins",
   "metadata": {},
   "outputs": [
    {
     "name": "stdout",
     "output_type": "stream",
     "text": [
      "Dataset loaded\n"
     ]
    }
   ],
   "source": [
    "load_menu = True\n",
    "try:\n",
    "    if load_menu:\n",
    "        train_ln = pd.read_csv('dataset/train_lunch_menu.csv')\n",
    "        train_dn = pd.read_csv('dataset/train_dinner_menu.csv')\n",
    "        test_ln = pd.read_csv('dataset/test_lunch_menu.csv')\n",
    "        test_dn = pd.read_csv('dataset/test_dinner_menu.csv')\n",
    "        print('Dataset loaded')\n",
    "    else:\n",
    "        print('Not loaded')\n",
    "except:\n",
    "    print('Dataset not found')"
   ]
  },
  {
   "cell_type": "code",
   "execution_count": 17,
   "id": "transsexual-sellers",
   "metadata": {},
   "outputs": [],
   "source": [
    "# 식사가능자\n",
    "train_ln['식사가능자'] = train_ln['본사정원수'] - train_ln['본사휴가자수']  - train_ln['현본사소속재택근무자수']\n",
    "train_dn['식사가능자'] = train_dn['본사정원수'] - train_dn['본사휴가자수']  - train_dn['현본사소속재택근무자수'] - train_dn['본사출장자수']\n",
    "\n",
    "test_ln['식사가능자'] = test_ln['본사정원수'] - test_ln['본사휴가자수'] - test_ln['현본사소속재택근무자수']\n",
    "test_dn['식사가능자'] = test_dn['본사정원수'] - test_dn['본사휴가자수'] - test_dn['현본사소속재택근무자수'] - test_dn['본사출장자수']"
   ]
  },
  {
   "cell_type": "code",
   "execution_count": 18,
   "id": "attended-geneva",
   "metadata": {},
   "outputs": [],
   "source": [
    "train_ln.to_csv('dataset/train_lunch_av.csv', index=False)\n",
    "train_dn.to_csv('dataset/train_dinner_av.csv', index=False)\n",
    "test_ln.to_csv('dataset/test_lunch_av.csv', index=False)\n",
    "test_dn.to_csv('dataset/test_dinner_av.csv', index=False)"
   ]
  },
  {
   "cell_type": "markdown",
   "id": "inclusive-motivation",
   "metadata": {},
   "source": [
    "## 날씨데이터"
   ]
  },
  {
   "cell_type": "code",
   "execution_count": 2,
   "id": "expanded-greene",
   "metadata": {},
   "outputs": [
    {
     "name": "stdout",
     "output_type": "stream",
     "text": [
      "Dataset loaded\n"
     ]
    }
   ],
   "source": [
    "load_av = True\n",
    "try:\n",
    "    if load_av:\n",
    "        train_ln = pd.read_csv('dataset/train_lunch_av.csv')\n",
    "        train_dn = pd.read_csv('dataset/train_dinner_av.csv')\n",
    "        test_ln = pd.read_csv('dataset/test_lunch_av.csv')\n",
    "        test_dn = pd.read_csv('dataset/test_dinner_av.csv')\n",
    "        print('Dataset loaded')\n",
    "    else:\n",
    "        print('Not loaded')\n",
    "except:\n",
    "    print('Dataset not found')"
   ]
  },
  {
   "cell_type": "code",
   "execution_count": 3,
   "id": "concerned-still",
   "metadata": {
    "scrolled": true
   },
   "outputs": [],
   "source": [
    "weather = pd.read_csv('dataset/기상청.csv', encoding='cp949')"
   ]
  },
  {
   "cell_type": "code",
   "execution_count": 4,
   "id": "sudden-stylus",
   "metadata": {},
   "outputs": [],
   "source": [
    "weather.fillna(0, inplace=True)"
   ]
  },
  {
   "cell_type": "code",
   "execution_count": 5,
   "id": "beneficial-check",
   "metadata": {},
   "outputs": [],
   "source": [
    "weather['날짜'] = pd.to_datetime(weather['날짜'] ,format=\"%Y-%m-%d\")"
   ]
  },
  {
   "cell_type": "code",
   "execution_count": 6,
   "id": "fixed-saudi",
   "metadata": {},
   "outputs": [
    {
     "data": {
      "text/html": [
       "<div>\n",
       "<style scoped>\n",
       "    .dataframe tbody tr th:only-of-type {\n",
       "        vertical-align: middle;\n",
       "    }\n",
       "\n",
       "    .dataframe tbody tr th {\n",
       "        vertical-align: top;\n",
       "    }\n",
       "\n",
       "    .dataframe thead th {\n",
       "        text-align: right;\n",
       "    }\n",
       "</style>\n",
       "<table border=\"1\" class=\"dataframe\">\n",
       "  <thead>\n",
       "    <tr style=\"text-align: right;\">\n",
       "      <th></th>\n",
       "      <th>날짜</th>\n",
       "      <th>지점</th>\n",
       "      <th>강수량(mm)</th>\n",
       "    </tr>\n",
       "  </thead>\n",
       "  <tbody>\n",
       "    <tr>\n",
       "      <th>505</th>\n",
       "      <td>2017-06-20</td>\n",
       "      <td>108</td>\n",
       "      <td>0.0</td>\n",
       "    </tr>\n",
       "    <tr>\n",
       "      <th>1239</th>\n",
       "      <td>2019-06-24</td>\n",
       "      <td>108</td>\n",
       "      <td>0.0</td>\n",
       "    </tr>\n",
       "    <tr>\n",
       "      <th>313</th>\n",
       "      <td>2016-12-10</td>\n",
       "      <td>108</td>\n",
       "      <td>0.0</td>\n",
       "    </tr>\n",
       "    <tr>\n",
       "      <th>1820</th>\n",
       "      <td>2021-01-25</td>\n",
       "      <td>108</td>\n",
       "      <td>0.0</td>\n",
       "    </tr>\n",
       "    <tr>\n",
       "      <th>1079</th>\n",
       "      <td>2019-01-15</td>\n",
       "      <td>108</td>\n",
       "      <td>0.0</td>\n",
       "    </tr>\n",
       "    <tr>\n",
       "      <th>1562</th>\n",
       "      <td>2020-05-12</td>\n",
       "      <td>108</td>\n",
       "      <td>0.7</td>\n",
       "    </tr>\n",
       "    <tr>\n",
       "      <th>524</th>\n",
       "      <td>2017-07-09</td>\n",
       "      <td>108</td>\n",
       "      <td>32.5</td>\n",
       "    </tr>\n",
       "    <tr>\n",
       "      <th>1428</th>\n",
       "      <td>2019-12-30</td>\n",
       "      <td>108</td>\n",
       "      <td>0.4</td>\n",
       "    </tr>\n",
       "    <tr>\n",
       "      <th>535</th>\n",
       "      <td>2017-07-20</td>\n",
       "      <td>108</td>\n",
       "      <td>0.0</td>\n",
       "    </tr>\n",
       "    <tr>\n",
       "      <th>315</th>\n",
       "      <td>2016-12-12</td>\n",
       "      <td>108</td>\n",
       "      <td>0.0</td>\n",
       "    </tr>\n",
       "  </tbody>\n",
       "</table>\n",
       "</div>"
      ],
      "text/plain": [
       "             날짜   지점  강수량(mm)\n",
       "505  2017-06-20  108      0.0\n",
       "1239 2019-06-24  108      0.0\n",
       "313  2016-12-10  108      0.0\n",
       "1820 2021-01-25  108      0.0\n",
       "1079 2019-01-15  108      0.0\n",
       "1562 2020-05-12  108      0.7\n",
       "524  2017-07-09  108     32.5\n",
       "1428 2019-12-30  108      0.4\n",
       "535  2017-07-20  108      0.0\n",
       "315  2016-12-12  108      0.0"
      ]
     },
     "execution_count": 6,
     "metadata": {},
     "output_type": "execute_result"
    }
   ],
   "source": [
    "weather.sample(10)"
   ]
  },
  {
   "cell_type": "code",
   "execution_count": 7,
   "id": "tight-citizen",
   "metadata": {},
   "outputs": [],
   "source": [
    "train_ln['강수량'] = 0.\n",
    "train_dn['강수량'] = 0.\n",
    "for i in range(len(train_ln)):\n",
    "    train_ln['강수량'][i] = weather[weather['날짜'] == train_ln['일자'][i]]['강수량(mm)']\n",
    "    train_dn['강수량'][i] = weather[weather['날짜'] == train_dn['일자'][i]]['강수량(mm)']\n",
    "\n",
    "\n",
    "test_ln['강수량'] = 0.\n",
    "test_dn['강수량'] = 0.\n",
    "for i in range(len(test_ln)):\n",
    "    test_ln['강수량'][i] = weather[weather['날짜'] == test_ln['일자'][i]]['강수량(mm)']\n",
    "    test_dn['강수량'][i] = weather[weather['날짜'] == test_dn['일자'][i]]['강수량(mm)']"
   ]
  },
  {
   "cell_type": "code",
   "execution_count": 8,
   "id": "stainless-consideration",
   "metadata": {},
   "outputs": [],
   "source": [
    "train_ln.to_csv('dataset/train_lunch_final.csv', index=False)\n",
    "train_dn.to_csv('dataset/train_dinner_final.csv', index=False)\n",
    "test_ln.to_csv('dataset/test_lunch_final.csv', index=False)\n",
    "test_dn.to_csv('dataset/test_dinner_final.csv', index=False)"
   ]
  },
  {
   "cell_type": "markdown",
   "id": "local-antique",
   "metadata": {},
   "source": [
    "## 상관계수"
   ]
  },
  {
   "cell_type": "code",
   "execution_count": 13,
   "id": "worthy-watch",
   "metadata": {},
   "outputs": [
    {
     "data": {
      "text/html": [
       "<div>\n",
       "<style scoped>\n",
       "    .dataframe tbody tr th:only-of-type {\n",
       "        vertical-align: middle;\n",
       "    }\n",
       "\n",
       "    .dataframe tbody tr th {\n",
       "        vertical-align: top;\n",
       "    }\n",
       "\n",
       "    .dataframe thead th {\n",
       "        text-align: right;\n",
       "    }\n",
       "</style>\n",
       "<table border=\"1\" class=\"dataframe\">\n",
       "  <thead>\n",
       "    <tr style=\"text-align: right;\">\n",
       "      <th></th>\n",
       "      <th>요일</th>\n",
       "      <th>본사정원수</th>\n",
       "      <th>본사휴가자수</th>\n",
       "      <th>본사출장자수</th>\n",
       "      <th>본사시간외근무명령서승인건수</th>\n",
       "      <th>현본사소속재택근무자수</th>\n",
       "      <th>중식계</th>\n",
       "      <th>석식계</th>\n",
       "      <th>년</th>\n",
       "      <th>월</th>\n",
       "      <th>...</th>\n",
       "      <th>조림류</th>\n",
       "      <th>찜류</th>\n",
       "      <th>튀김류</th>\n",
       "      <th>샐러드류</th>\n",
       "      <th>단품류</th>\n",
       "      <th>유제품</th>\n",
       "      <th>빵과자류</th>\n",
       "      <th>음료.및.주류</th>\n",
       "      <th>식사가능자</th>\n",
       "      <th>강수량</th>\n",
       "    </tr>\n",
       "  </thead>\n",
       "  <tbody>\n",
       "    <tr>\n",
       "      <th>중식계</th>\n",
       "      <td>0.584193</td>\n",
       "      <td>-0.115529</td>\n",
       "      <td>-0.391975</td>\n",
       "      <td>-0.512680</td>\n",
       "      <td>0.535611</td>\n",
       "      <td>0.076509</td>\n",
       "      <td>1.000000</td>\n",
       "      <td>0.508287</td>\n",
       "      <td>-0.078804</td>\n",
       "      <td>-0.154664</td>\n",
       "      <td>...</td>\n",
       "      <td>-0.071523</td>\n",
       "      <td>-0.004798</td>\n",
       "      <td>-0.035566</td>\n",
       "      <td>-0.032982</td>\n",
       "      <td>-0.032804</td>\n",
       "      <td>0.000444</td>\n",
       "      <td>NaN</td>\n",
       "      <td>0.002365</td>\n",
       "      <td>0.151029</td>\n",
       "      <td>0.041136</td>\n",
       "    </tr>\n",
       "    <tr>\n",
       "      <th>석식계</th>\n",
       "      <td>0.292941</td>\n",
       "      <td>-0.173852</td>\n",
       "      <td>-0.316894</td>\n",
       "      <td>-0.188164</td>\n",
       "      <td>0.571168</td>\n",
       "      <td>-0.057534</td>\n",
       "      <td>0.508287</td>\n",
       "      <td>1.000000</td>\n",
       "      <td>-0.194792</td>\n",
       "      <td>-0.127142</td>\n",
       "      <td>...</td>\n",
       "      <td>-0.004765</td>\n",
       "      <td>0.025334</td>\n",
       "      <td>-0.056793</td>\n",
       "      <td>-0.164431</td>\n",
       "      <td>-0.140177</td>\n",
       "      <td>0.011802</td>\n",
       "      <td>NaN</td>\n",
       "      <td>-0.060656</td>\n",
       "      <td>0.118615</td>\n",
       "      <td>0.006266</td>\n",
       "    </tr>\n",
       "  </tbody>\n",
       "</table>\n",
       "<p>2 rows × 49 columns</p>\n",
       "</div>"
      ],
      "text/plain": [
       "           요일     본사정원수    본사휴가자수    본사출장자수  본사시간외근무명령서승인건수  현본사소속재택근무자수  \\\n",
       "중식계  0.584193 -0.115529 -0.391975 -0.512680        0.535611     0.076509   \n",
       "석식계  0.292941 -0.173852 -0.316894 -0.188164        0.571168    -0.057534   \n",
       "\n",
       "          중식계       석식계         년         월  ...       조림류        찜류  \\\n",
       "중식계  1.000000  0.508287 -0.078804 -0.154664  ... -0.071523 -0.004798   \n",
       "석식계  0.508287  1.000000 -0.194792 -0.127142  ... -0.004765  0.025334   \n",
       "\n",
       "          튀김류      샐러드류       단품류       유제품  빵과자류   음료.및.주류     식사가능자  \\\n",
       "중식계 -0.035566 -0.032982 -0.032804  0.000444   NaN  0.002365  0.151029   \n",
       "석식계 -0.056793 -0.164431 -0.140177  0.011802   NaN -0.060656  0.118615   \n",
       "\n",
       "          강수량  \n",
       "중식계  0.041136  \n",
       "석식계  0.006266  \n",
       "\n",
       "[2 rows x 49 columns]"
      ]
     },
     "execution_count": 13,
     "metadata": {},
     "output_type": "execute_result"
    }
   ],
   "source": [
    "train_ln.corr().loc[['중식계', '석식계']]"
   ]
  },
  {
   "cell_type": "code",
   "execution_count": 20,
   "id": "fluid-pressure",
   "metadata": {
    "scrolled": true
   },
   "outputs": [
    {
     "data": {
      "text/plain": [
       "<AxesSubplot:>"
      ]
     },
     "execution_count": 20,
     "metadata": {},
     "output_type": "execute_result"
    },
    {
     "data": {
      "image/png": "[encoded data removed]",
      "text/plain": [
       "<Figure size 2160x216 with 2 Axes>"
      ]
     },
     "metadata": {
      "needs_background": "light"
     },
     "output_type": "display_data"
    }
   ],
   "source": [
    "plt.figure(figsize=(30, 3))\n",
    "tmp = train_ln.corr().loc[['중식계', '석식계']]\n",
    "sns.heatmap(tmp,\n",
    "               annot = True,      # 실제 값 화면에 나타내기\n",
    "               cmap = 'RdYlBu_r',  # Red, Yellow, Blue 색상으로 표시\n",
    "               vmin = -1, vmax = 1, #컬러차트 -1 ~ 1 범위로 표시\n",
    "              )"
   ]
  },
  {
   "cell_type": "code",
   "execution_count": null,
   "id": "radio-replication",
   "metadata": {},
   "outputs": [],
   "source": []
  }
 ],
 "metadata": {
  "kernelspec": {
   "display_name": "Python 3",
   "language": "python",
   "name": "python3"
  },
  "language_info": {
   "codemirror_mode": {
    "name": "ipython",
    "version": 3
   },
   "file_extension": ".py",
   "mimetype": "text/x-python",
   "name": "python",
   "nbconvert_exporter": "python",
   "pygments_lexer": "ipython3",
   "version": "3.8.5"
  }
 },
 "nbformat": 4,
 "nbformat_minor": 5
}
