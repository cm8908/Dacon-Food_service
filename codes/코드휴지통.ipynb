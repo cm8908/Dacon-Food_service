{
 "cells": [
  {
   "cell_type": "code",
   "execution_count": 1,
   "id": "jewish-connecticut",
   "metadata": {},
   "outputs": [
    {
     "ename": "NameError",
     "evalue": "name 'train' is not defined",
     "output_type": "error",
     "traceback": [
      "\u001b[1;31m---------------------------------------------------------------------------\u001b[0m",
      "\u001b[1;31mNameError\u001b[0m                                 Traceback (most recent call last)",
      "\u001b[1;32m<ipython-input-1-96929f8b35d2>\u001b[0m in \u001b[0;36m<module>\u001b[1;34m\u001b[0m\n\u001b[0;32m      1\u001b[0m \u001b[1;32mfrom\u001b[0m \u001b[0mdatetime\u001b[0m \u001b[1;32mimport\u001b[0m \u001b[0mtimedelta\u001b[0m\u001b[1;33m\u001b[0m\u001b[1;33m\u001b[0m\u001b[0m\n\u001b[1;32m----> 2\u001b[1;33m \u001b[0mtrain\u001b[0m\u001b[1;33m[\u001b[0m\u001b[1;34m'전주중식계'\u001b[0m\u001b[1;33m]\u001b[0m \u001b[1;33m=\u001b[0m \u001b[1;36m0\u001b[0m\u001b[1;33m\u001b[0m\u001b[1;33m\u001b[0m\u001b[0m\n\u001b[0m\u001b[0;32m      3\u001b[0m \u001b[0mtrain\u001b[0m\u001b[1;33m[\u001b[0m\u001b[1;34m'전주석식계'\u001b[0m\u001b[1;33m]\u001b[0m \u001b[1;33m=\u001b[0m \u001b[1;36m0\u001b[0m\u001b[1;33m\u001b[0m\u001b[1;33m\u001b[0m\u001b[0m\n\u001b[0;32m      4\u001b[0m \u001b[0midx\u001b[0m \u001b[1;33m=\u001b[0m \u001b[0mpd\u001b[0m\u001b[1;33m.\u001b[0m\u001b[0mDatetimeIndex\u001b[0m\u001b[1;33m(\u001b[0m\u001b[0mtrain\u001b[0m\u001b[1;33m[\u001b[0m\u001b[1;34m'일자'\u001b[0m\u001b[1;33m]\u001b[0m\u001b[1;33m)\u001b[0m \u001b[1;33m+\u001b[0m \u001b[0mtimedelta\u001b[0m\u001b[1;33m(\u001b[0m\u001b[0mweeks\u001b[0m\u001b[1;33m=\u001b[0m\u001b[1;33m-\u001b[0m\u001b[1;36m1\u001b[0m\u001b[1;33m)\u001b[0m\u001b[1;33m\u001b[0m\u001b[1;33m\u001b[0m\u001b[0m\n\u001b[0;32m      5\u001b[0m \u001b[1;32mfor\u001b[0m \u001b[0mi\u001b[0m \u001b[1;32min\u001b[0m \u001b[0mrange\u001b[0m\u001b[1;33m(\u001b[0m\u001b[0mlen\u001b[0m\u001b[1;33m(\u001b[0m\u001b[0mtrain\u001b[0m\u001b[1;33m)\u001b[0m\u001b[1;33m)\u001b[0m\u001b[1;33m:\u001b[0m\u001b[1;33m\u001b[0m\u001b[1;33m\u001b[0m\u001b[0m\n",
      "\u001b[1;31mNameError\u001b[0m: name 'train' is not defined"
     ]
    }
   ],
   "source": [
    "from datetime import timedelta\n",
    "train['전주중식계'] = 0\n",
    "train['전주석식계'] = 0\n",
    "idx = pd.DatetimeIndex(train['일자']) + timedelta(weeks=-1)\n",
    "for i in range(len(train)):\n",
    "    try:\n",
    "        train['전주중식계'][i] = train[train['일자'] == str(idx[i])[:10]]['중식계']\n",
    "        train['전주석식계'][i] = train[train['일자'] == str(idx[i])[:10]]['석식계']\n",
    "    except:\n",
    "        train['전주중식계'][i] = train.iloc[i,:]['중식계']\n",
    "        train['전주석식계'][i] = train.iloc[i,:]['석식계']\n",
    "\n",
    "        \n",
    "for i in range(len(train)):\n",
    "    try:\n",
    "        test['전주중식계'][i] = test[test['일자'] == str(idx[i])[:10]]['중식계']\n",
    "        test['전주석식계'][i] = test[test['일자'] == str(idx[i])[:10]]['석식계']\n",
    "    except:\n",
    "        test['전주중식계'][i] = test.iloc[i,:]['중식계']\n",
    "        test['전주석식계'][i] = test.iloc[i,:]['석식계']\n",
    "        \n",
    "train[['중식계', '전주중식계', '석식계', '전주석식계', '일자']].head(10)"
   ]
  },
  {
   "cell_type": "code",
   "execution_count": null,
   "id": "nervous-illustration",
   "metadata": {},
   "outputs": [],
   "source": [
    "from datetime import timedelta\n",
    "prev = train\n",
    "i=0\n",
    "for idx, part_test in enumerate(res):\n",
    "    part_test = make_dow_avg(part_test, prev)\n",
    "    part_test = make_month_avg(part_test, prev)\n",
    "    #전주식계 생성\n",
    "    part_test['전주중식계'] = 0\n",
    "    part_test['전주석식계'] = 0\n",
    "    index = pd.DatetimeIndex(part_test['일자']) + timedelta(weeks=-1)\n",
    "    print(index)\n",
    "    for i in range(len(part_test)):\n",
    "        part_test['전주중식계'][i] = prev[prev['일자'] == str(index[i])[:10]]['중식계']\n",
    "        part_test['전주석식계'][i] = prev[prev['일자'] == str(index[i])[:10]]['석식계']\n",
    "    \n",
    "    #pred 생성\n",
    "    pred_ln = predict_model(final_model_l, part_test.drop(['일자', '월'], axis=1))\n",
    "    pred_dn = predict_model(final_model_d, part_test.drop(['일자', '월'], axis=1))\n",
    "    \n",
    "    #submission 업데이트\n",
    "    submission_df['중식계'][5*idx:5*idx+5] = pred_ln['Label']\n",
    "    submission_df['석식계'][5*idx:5*idx+5] = pred_dn['Label']\n",
    "    i+=5\n",
    "    \n",
    "    #prev업데이트\n",
    "    part_test['중식계'] = pred_ln['Label']\n",
    "    part_test['석식계'] = pred_dn['Label']\n",
    "    print(part_test[['중식계', '석식계']])\n",
    "    prev = pd.concat([prev, part_test], ignore_index=True)"
   ]
  }
 ],
 "metadata": {
  "kernelspec": {
   "display_name": "Python 3",
   "language": "python",
   "name": "python3"
  },
  "language_info": {
   "codemirror_mode": {
    "name": "ipython",
    "version": 3
   },
   "file_extension": ".py",
   "mimetype": "text/x-python",
   "name": "python",
   "nbconvert_exporter": "python",
   "pygments_lexer": "ipython3",
   "version": "3.8.5"
  }
 },
 "nbformat": 4,
 "nbformat_minor": 5
}
